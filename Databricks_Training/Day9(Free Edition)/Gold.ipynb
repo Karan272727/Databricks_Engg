{
 "cells": [
  {
   "cell_type": "markdown",
   "metadata": {
    "application/vnd.databricks.v1+cell": {
     "cellMetadata": {},
     "inputWidgets": {},
     "nuid": "017b1cb5-ea45-4e47-831f-34117189faac",
     "showTitle": false,
     "tableResultSettingsMap": {},
     "title": ""
    }
   },
   "source": [
    "- Total sales amount by each customer\n",
    "- Usecase: To find out which customer generated the most revenue.\n",
    "- "
   ]
  },
  {
   "cell_type": "code",
   "execution_count": 0,
   "metadata": {
    "application/vnd.databricks.v1+cell": {
     "cellMetadata": {
      "byteLimit": 2048000,
      "rowLimit": 10000
     },
     "inputWidgets": {},
     "nuid": "1c28f6be-1090-4185-8a92-b0140bb61125",
     "showTitle": true,
     "tableResultSettingsMap": {},
     "title": "Task 1"
    }
   },
   "outputs": [],
   "source": [
    "-- Total sales amount by each customer\n",
    "-- Usecase: To find out which customer generated the most revenue.\n",
    "\n",
    "create or replace view workspace.gold.sales_by_customer as\n",
    "  select customer_id, round(sum(total_amount),1) as total_sales\n",
    "  from workspace.silver.sales_cleaned\n",
    "  group by customer_id\n",
    "  order by total_sales"
   ]
  },
  {
   "cell_type": "code",
   "execution_count": 0,
   "metadata": {
    "application/vnd.databricks.v1+cell": {
     "cellMetadata": {
      "byteLimit": 2048000,
      "rowLimit": 10000
     },
     "inputWidgets": {},
     "nuid": "b4973657-771c-415e-98fd-60772a4428f3",
     "showTitle": true,
     "tableResultSettingsMap": {},
     "title": "Task 2"
    }
   },
   "outputs": [],
   "source": [
    "-- Top 3 Products by total quantity sold\n",
    "-- Usecase: Identify the best selling product\n",
    "\n",
    "create or replace view workspace.gold.top_3_product as\n",
    "  select product_id, sum(quantity) as sold_products_quantity\n",
    "  from workspace.silver.sales_cleaned\n",
    "  group by product_id\n",
    "  order by sold_products_quantity desc\n",
    "  limit 3"
   ]
  },
  {
   "cell_type": "code",
   "execution_count": 0,
   "metadata": {
    "application/vnd.databricks.v1+cell": {
     "cellMetadata": {
      "byteLimit": 2048000,
      "rowLimit": 10000
     },
     "inputWidgets": {},
     "nuid": "a991882a-7b7b-4676-8e93-7a6d2c6fc3e3",
     "showTitle": false,
     "tableResultSettingsMap": {},
     "title": ""
    }
   },
   "outputs": [],
   "source": [
    "%sql\n",
    "select * from workspace.silver.sales_cleaned"
   ]
  }
 ],
 "metadata": {
  "application/vnd.databricks.v1+notebook": {
   "computePreferences": null,
   "dashboards": [],
   "environmentMetadata": {
    "base_environment": "",
    "environment_version": "2"
   },
   "inputWidgetPreferences": null,
   "language": "sql",
   "notebookMetadata": {
    "pythonIndentUnit": 4
   },
   "notebookName": "Gold",
   "widgets": {}
  },
  "language_info": {
   "name": "sql"
  }
 },
 "nbformat": 4,
 "nbformat_minor": 0
}
